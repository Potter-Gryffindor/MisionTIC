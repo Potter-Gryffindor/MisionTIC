{
  "nbformat": 4,
  "nbformat_minor": 0,
  "metadata": {
    "kernelspec": {
      "display_name": "Python 3",
      "language": "python",
      "name": "python3"
    },
    "language_info": {
      "codemirror_mode": {
        "name": "ipython",
        "version": 3
      },
      "file_extension": ".py",
      "mimetype": "text/x-python",
      "name": "python",
      "nbconvert_exporter": "python",
      "pygments_lexer": "ipython3",
      "version": "3.8.3"
    },
    "colab": {
      "name": "Componente Practico Sesión 1 _ Variables.ipynb",
      "provenance": [],
      "include_colab_link": true
    }
  },
  "cells": [
    {
      "cell_type": "markdown",
      "metadata": {
        "id": "view-in-github",
        "colab_type": "text"
      },
      "source": [
        "<a href=\"https://colab.research.google.com/github/Potter-Gryffindor/MisionTIC/blob/main/Ciclo1/Componente_Practico_Sesi%C3%B3n_1___Variables.ipynb\" target=\"_parent\"><img src=\"https://colab.research.google.com/assets/colab-badge.svg\" alt=\"Open In Colab\"/></a>"
      ]
    },
    {
      "cell_type": "markdown",
      "metadata": {
        "id": "80EIPNsWgaNR"
      },
      "source": [
        "# Fundamentos de Programación con Python\n",
        "\n",
        "<b>¡Bienvenido!</b> \n",
        "\n",
        "## Python y Jupyter\n",
        "\n",
        "Python es un lenguaje de programación usado en ciencias e ingeniería. Es ideal para aprender programación porque su sintáxis es simple y es un lenguaje muy popular en este momento. \n",
        "\n",
        "Python permite crear programas que resuelvan problemas automatizando tareas repetitivas, procesando grandes cantidades de datos, resolviendo complejos cálculos matemáticos, o simplemente, creando visualizaciones de fenónenos complejos.\n",
        "\n",
        "Jupyter es un editor de texto y código que nos permite integrar éstos dos elementos en una página web que llamaremos NoteBook (NB), para poder integrar explicaciones, ejecutar código, e incluir ejercicios prácticos. Cada que encuentres el texto In [ ] a la izquierda de una caja de texto, quiere decir que puedes ejecutar esta instrucción.\n",
        "\n",
        "## Instrucciones, Variables, y Operaciones Matemáticas\n",
        "Comencemos por lo más sencillo... Recuerda que programar significa darle instrucciones al computador para que haga lo que yo quiera. Podemos comenzar por pedirle que imprima algo para nosotros:\n"
      ]
    },
    {
      "cell_type": "code",
      "metadata": {
        "id": "vTnd3bRJgaNt",
        "colab": {
          "base_uri": "https://localhost:8080/"
        },
        "outputId": "bf0c81a3-4a1a-4cf6-8039-ca36d708df3b"
      },
      "source": [
        "print(\"Mi primera instrucción al computador!\")"
      ],
      "execution_count": null,
      "outputs": [
        {
          "output_type": "stream",
          "text": [
            "Mi primera instrucción al computador!\n"
          ],
          "name": "stdout"
        }
      ]
    },
    {
      "cell_type": "markdown",
      "metadata": {
        "id": "UGY-DvQqgaN1"
      },
      "source": [
        "### Actividad 1\n",
        "\n",
        "Lo que hicimos fue simplemente decirle al computador que imprimiera (print) el texto que estaba entre las comillas. Escribe una instrucción para imprimir otro mensaje en el siguiente espacio y luego ejecutalo.\n"
      ]
    },
    {
      "cell_type": "code",
      "metadata": {
        "id": "3k81EbAIgaN6",
        "colab": {
          "base_uri": "https://localhost:8080/"
        },
        "outputId": "6301e3d0-9710-4139-996b-b22603648681"
      },
      "source": [
        "print(2+2)"
      ],
      "execution_count": null,
      "outputs": [
        {
          "output_type": "stream",
          "text": [
            "4\n"
          ],
          "name": "stdout"
        }
      ]
    },
    {
      "cell_type": "markdown",
      "metadata": {
        "id": "WdO2G0pZgaN8"
      },
      "source": [
        "### Actividad 2\n",
        "Vamos a modificar el siguiente algoritmo para escribirlo en Python. \n",
        "\n",
        "Inicio\n",
        "\n",
        "    valor_uno ⇐ 5\n",
        "    valor_dos ⇐ 8\n",
        "\n",
        "    total =  valor_uno + valor_dos\n",
        "Fin"
      ]
    },
    {
      "cell_type": "code",
      "metadata": {
        "id": "E7X9XU4PgaN-"
      },
      "source": [
        "valor_uno = 5\n",
        "valor_dos = 8\n",
        "\n",
        "total = valor_uno + valor_dos\n"
      ],
      "execution_count": null,
      "outputs": []
    },
    {
      "cell_type": "markdown",
      "metadata": {
        "id": "7jxYro4NgaN_"
      },
      "source": [
        "Por ahora no vemos nada, pero qué tal si imprimirmos la variable total? Ingresa el código para imprimir la variable total"
      ]
    },
    {
      "cell_type": "code",
      "metadata": {
        "id": "MWJBJ2DugaOA",
        "colab": {
          "base_uri": "https://localhost:8080/"
        },
        "outputId": "fa59a604-23a9-4df8-9832-3fba27f096b2"
      },
      "source": [
        "print(total)"
      ],
      "execution_count": null,
      "outputs": [
        {
          "output_type": "stream",
          "text": [
            "13\n"
          ],
          "name": "stdout"
        }
      ]
    },
    {
      "cell_type": "markdown",
      "metadata": {
        "id": "ckP1fZQVgaOB"
      },
      "source": [
        "Y si quisieramos leer el valor? Python cuenta con la función input() para leer valores. Vamos a ver como usarla"
      ]
    },
    {
      "cell_type": "code",
      "metadata": {
        "id": "klm2hhu8gaOC",
        "colab": {
          "base_uri": "https://localhost:8080/"
        },
        "outputId": "355ec661-a0e9-4be4-b03f-e6730240eabf"
      },
      "source": [
        "valor_uno = float(input())\n",
        "valor_dos = float(input())\n",
        "print(valor_uno + valor_dos)"
      ],
      "execution_count": null,
      "outputs": [
        {
          "output_type": "stream",
          "text": [
            "5\n",
            "8\n",
            "13.0\n"
          ],
          "name": "stdout"
        }
      ]
    },
    {
      "cell_type": "markdown",
      "metadata": {
        "id": "hydr2wDVgaOE"
      },
      "source": [
        "En el código anterior además de la función input() usamos float() para determinar el tipo de dato. Por defecto, Python leería la variable como una cadena de caracteres, pero para poder realizar operaciones aritméticas, necesitamos identificarlas como número. En este caso, float quiere decir flotante. Más adelante analizaremos otros tipos de datos.\n",
        "\n",
        "Ahora revisemos los operadores aritméticos y su sintáxis en Python\n",
        "\n",
        "<table>\n",
        "<thead><tr>\n",
        "<th>Operador</th>\n",
        "<th>Nombre</th>\n",
        "<th>Descripción</th>\n",
        "</tr>\n",
        "</thead>\n",
        "<tbody>\n",
        "<tr>\n",
        "<td><code>a + b</code></td>\n",
        "<td>Suma</td>\n",
        "<td>Suma de <code>a</code> y <code>b</code></td>\n",
        "</tr>\n",
        "<tr>\n",
        "<td><code>a - b</code></td>\n",
        "<td>Resta</td>\n",
        "<td>Diferencia entra <code>a</code> y <code>b</code></td>\n",
        "</tr>\n",
        "<tr>\n",
        "<td><code>a * b</code></td>\n",
        "<td>Multiplicación</td>\n",
        "<td>Multiplicación de <code>a</code> y <code>b</code></td>\n",
        "</tr>\n",
        "<tr>\n",
        "<td><code>a / b</code></td>\n",
        "<td>División real</td>\n",
        "<td>Resultado de <code>a</code> dividido <code>b</code></td>\n",
        "</tr>\n",
        "<tr>\n",
        "<td><code>a // b</code></td>\n",
        "<td>División con redondeo</td>\n",
        "<td>Resultado de <code>a</code> dividido b <code>b</code>, redondeo a número entero</td>\n",
        "</tr>\n",
        "<tr>\n",
        "<td><code>a % b</code></td>\n",
        "<td>Modulo</td>\n",
        "<td>Residuo de la división entre <code>a</code> y <code>b</code></td>\n",
        "</tr>\n",
        "<tr>\n",
        "<td><code>a ** b</code></td>\n",
        "<td>Potencia</td>\n",
        "<td><code>a</code> a la potencia de <code>b</code></td>\n",
        "</tr>\n",
        "<tr>\n",
        "<td><code>-a</code></td>\n",
        "<td>Negación</td>\n",
        "<td>Negativo de <code>a</code></td>\n",
        "</tr>\n",
        "</tbody></table>\n",
        "\n",
        "Observemos la diferencia entre división real y división con redondeo en Python."
      ]
    },
    {
      "cell_type": "code",
      "metadata": {
        "colab": {
          "base_uri": "https://localhost:8080/"
        },
        "id": "WqLDN9wKgaOK",
        "outputId": "6866c6d2-6ac3-40c4-da9f-5c7aae05367f"
      },
      "source": [
        "print(6/2)\n",
        "print(5/2)"
      ],
      "execution_count": null,
      "outputs": [
        {
          "output_type": "stream",
          "text": [
            "3.0\n",
            "2.5\n"
          ],
          "name": "stdout"
        }
      ]
    },
    {
      "cell_type": "code",
      "metadata": {
        "colab": {
          "base_uri": "https://localhost:8080/"
        },
        "id": "6CvBC3bdgaOL",
        "outputId": "3b404d9a-4b5c-4fc6-e2b7-1756ce17c992"
      },
      "source": [
        "print(6//2)\n",
        "print(5//2)"
      ],
      "execution_count": null,
      "outputs": [
        {
          "output_type": "stream",
          "text": [
            "3\n",
            "2\n"
          ],
          "name": "stdout"
        }
      ]
    },
    {
      "cell_type": "markdown",
      "metadata": {
        "id": "0wK_W8OSgaOM"
      },
      "source": [
        "### Actividad 3\n",
        "\n",
        "El área de un cuadrado puede calcularse como a^2. Escribe el código para calcular e imprimir el área del cuadrado donde a = 4\n"
      ]
    },
    {
      "cell_type": "code",
      "metadata": {
        "id": "3ZMZBLQcgaON",
        "colab": {
          "base_uri": "https://localhost:8080/"
        },
        "outputId": "2f6c9668-43af-41f3-a7b2-9e84a9dd4741"
      },
      "source": [
        "a = 4        # Longitud del lado del cuadrado\n",
        "area = a**2  # Crea una variable llamada area y usa la formula indicada para calcular el area del cuadrado\n",
        "print(f'El área es: {area}')\n"
      ],
      "execution_count": 7,
      "outputs": [
        {
          "output_type": "stream",
          "text": [
            "El área es: 16\n"
          ],
          "name": "stdout"
        }
      ]
    }
  ]
}