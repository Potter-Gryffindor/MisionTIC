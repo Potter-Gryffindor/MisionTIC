{
  "nbformat": 4,
  "nbformat_minor": 0,
  "metadata": {
    "colab": {
      "name": "RetoMisionTIC2022.ipynb",
      "provenance": [],
      "authorship_tag": "ABX9TyPpUomgqeECmPyARVBAts7X",
      "include_colab_link": true
    },
    "kernelspec": {
      "name": "python3",
      "display_name": "Python 3"
    },
    "language_info": {
      "name": "python"
    }
  },
  "cells": [
    {
      "cell_type": "markdown",
      "metadata": {
        "id": "view-in-github",
        "colab_type": "text"
      },
      "source": [
        "<a href=\"https://colab.research.google.com/github/Potter-Gryffindor/MisionTIC/blob/main/Ciclo1/RetoMisionTIC2022.ipynb\" target=\"_parent\"><img src=\"https://colab.research.google.com/assets/colab-badge.svg\" alt=\"Open In Colab\"/></a>"
      ]
    },
    {
      "cell_type": "markdown",
      "metadata": {
        "id": "wprzs-iZ2Zxa"
      },
      "source": [
        "# Reto MisiónTIC2022 \n",
        "El reto consiste en escribir en  un programa en el lenguaje de programación Python que utilice variables y operadores el siguiente mensaje: \"Hola Misión TIC 2022... soy \"<(nombre del estudiante)>\""
      ]
    },
    {
      "cell_type": "code",
      "metadata": {
        "id": "Ux-wWn5jQi8Z"
      },
      "source": [
        "str1 = 'Hola Misión TIC 2022, soy '  \n",
        "str2 = 'Javier Bayter'\n",
        "Mensaje = str1 + str2\n",
        "print(Mensaje)"
      ],
      "execution_count": null,
      "outputs": []
    }
  ]
}