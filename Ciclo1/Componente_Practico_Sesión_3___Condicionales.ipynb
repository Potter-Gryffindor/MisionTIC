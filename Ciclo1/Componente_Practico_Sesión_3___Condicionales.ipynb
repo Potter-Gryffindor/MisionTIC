{
  "nbformat": 4,
  "nbformat_minor": 0,
  "metadata": {
    "kernelspec": {
      "display_name": "Python 3",
      "language": "python",
      "name": "python3"
    },
    "language_info": {
      "codemirror_mode": {
        "name": "ipython",
        "version": 3
      },
      "file_extension": ".py",
      "mimetype": "text/x-python",
      "name": "python",
      "nbconvert_exporter": "python",
      "pygments_lexer": "ipython3",
      "version": "3.8.3"
    },
    "colab": {
      "name": "Componente Practico Sesión 3 _ Condicionales.ipynb",
      "provenance": [],
      "include_colab_link": true
    }
  },
  "cells": [
    {
      "cell_type": "markdown",
      "metadata": {
        "id": "view-in-github",
        "colab_type": "text"
      },
      "source": [
        "<a href=\"https://colab.research.google.com/github/Potter-Gryffindor/MisionTIC/blob/main/Componente_Practico_Sesi%C3%B3n_3___Condicionales.ipynb\" target=\"_parent\"><img src=\"https://colab.research.google.com/assets/colab-badge.svg\" alt=\"Open In Colab\"/></a>"
      ]
    },
    {
      "cell_type": "markdown",
      "metadata": {
        "id": "-EbKUZwyztOD"
      },
      "source": [
        "# Fundamentos de Programación con Python\n",
        "\n",
        "## Condicionales\n",
        "\n",
        "### Si-Sino-Finsi\n",
        "Recuerda que los condicionales nos permiten decidir qué instrucciones ejecutar y cuales no. El condicional Si-Sino-Finsi tiene la siguiente estructura:\n",
        "\n",
        "    Si (condición) Entonces\n",
        "        instrucción(es)\n",
        "    Sino\n",
        "        instrucción(es)\n",
        "    Fin Si\n",
        "\n",
        "En Python, esto se escribe un poco diferente y la estructura general depende de las tabulaciónes. Por ejemplo:"
      ]
    },
    {
      "cell_type": "code",
      "metadata": {
        "colab": {
          "base_uri": "https://localhost:8080/"
        },
        "id": "79yHpo0cztOh",
        "outputId": "def6baa7-f8fd-4d6b-e74d-95960e8fa008"
      },
      "source": [
        "x = int(input(\"Por favor ingresa un número: \"))\n",
        "if x<0:\n",
        "    print('X es Negativo')\n",
        "else:\n",
        "    print('X es Positivo')\n",
        "\n",
        "print('Esto ya está por fuera del condicional') #Esta fuera porque ya no hay tabulación"
      ],
      "execution_count": 2,
      "outputs": [
        {
          "output_type": "stream",
          "text": [
            "Por favor ingresa un número: 0\n",
            "X es Positivo\n",
            "Esto ya está por fuera del condicional\n"
          ],
          "name": "stdout"
        }
      ]
    },
    {
      "cell_type": "markdown",
      "metadata": {
        "id": "Rekgy7QHztOl"
      },
      "source": [
        "¿Qué pasa si X es 0? ¿Imprimirá positivo o negativo? ¿Cómo podríamos arreglar este programa para que si X es cero, imprima \"X es cero\"?\n",
        "\n"
      ]
    },
    {
      "cell_type": "code",
      "metadata": {
        "colab": {
          "base_uri": "https://localhost:8080/"
        },
        "id": "XtokE6LFztOm",
        "outputId": "1c2f2b28-5d37-4a3d-ff65-40373ac00cde"
      },
      "source": [
        "x = int(input(\"Por favor ingresa un número: \"))\n",
        "if x<0:\n",
        "    print('X es Negativo')\n",
        "elif x>0:\n",
        "    print('X es Positivo')\n",
        "else:\n",
        "    print('X es cero')"
      ],
      "execution_count": 5,
      "outputs": [
        {
          "output_type": "stream",
          "text": [
            "Por favor ingresa un número: 0\n",
            "X es cero\n"
          ],
          "name": "stdout"
        }
      ]
    },
    {
      "cell_type": "markdown",
      "metadata": {
        "id": "E7bENZUrztOn"
      },
      "source": [
        "### Operadores lógicos en Python\n",
        "\n",
        "Antes de pasar a usar condicionales, debemos entender como manejar los operadores lógicos (y/o) en Python para poder evaluar múltiples expresiones al tiempo.\n",
        "\n",
        "En Python, los operadores lógicos son las palabras en inglés: and y or. Estos operadores nos permiten analizar múltiples expresiones. \n",
        "\n",
        "<table>\n",
        "<thead><tr>\n",
        "<th>P    </th>\n",
        "<th>Q    </th>\n",
        "<th>P And Q</th>\n",
        "<th>P Or Q</th>\n",
        "</tr>\n",
        "</thead>\n",
        "<tbody>\n",
        "<tr>\n",
        "<td>V</td>\n",
        "<td>V</td>\n",
        "<td>V</td>\n",
        "<td>V</td>\n",
        "</tr>\n",
        "<tr>\n",
        "<td>V</td>\n",
        "<td>F</td>\n",
        "<td>F</td>\n",
        "<td>V</td>\n",
        "</tr>\n",
        "<tr>\n",
        "<td>F</td>\n",
        "<td>V</td>\n",
        "<td>F</td>\n",
        "<td>V</td>\n",
        "</tr>\n",
        "<tr>\n",
        "<td>F</td>\n",
        "<td>F</td>\n",
        "<td>F</td>\n",
        "<td>F</td>\n",
        "</tr>\n",
        "</tbody></table>\n",
        "\n",
        "Aquí está el código Python que evalúa las expresiones"
      ]
    },
    {
      "cell_type": "code",
      "metadata": {
        "colab": {
          "base_uri": "https://localhost:8080/"
        },
        "id": "moKpg0tWztOp",
        "outputId": "b07dbf64-5fdf-4fab-c799-885d9f91d29b"
      },
      "source": [
        "print((True and True),(True or True))\n",
        "print((True and False),(True or False))\n",
        "print((False and True), (False or True))\n",
        "print((False and False),(False or False))\n"
      ],
      "execution_count": 6,
      "outputs": [
        {
          "output_type": "stream",
          "text": [
            "True True\n",
            "False True\n",
            "False True\n",
            "False False\n"
          ],
          "name": "stdout"
        }
      ]
    },
    {
      "cell_type": "markdown",
      "metadata": {
        "id": "vv9eLzlxztOq"
      },
      "source": [
        "### Actividad 1\n",
        "\n",
        "Primero, vamos a pasar los siguientes pseudo-códigos con condicionales a Python\n",
        "\n",
        "Inicio\n",
        "    \n",
        "    a = leer()\n",
        "    b = leer()\n",
        "       \n",
        "    Si a>2 Entonces\n",
        "        imprimir a\n",
        "    Fin Si\n",
        "    \n",
        "    Si b < 4 Entonces\n",
        "        imprimir a\n",
        "    Fin Si\n",
        "Fin"
      ]
    },
    {
      "cell_type": "code",
      "metadata": {
        "colab": {
          "base_uri": "https://localhost:8080/"
        },
        "id": "iS4FJ6MFztOr",
        "outputId": "e2d901e8-9320-4e0e-f382-e58bc83ec408"
      },
      "source": [
        "a = int(input('Ingrese el valor de a: '))\n",
        "b = int(input('Ingrese el valor de b: '))\n",
        "\n",
        "if a>2:\n",
        "  print(a)\n",
        "\n",
        "if b<4:\n",
        "  print(a)\n"
      ],
      "execution_count": 8,
      "outputs": [
        {
          "output_type": "stream",
          "text": [
            "Ingrese el valor de a: 1\n",
            "Ingrese el valor de b: 1\n",
            "1\n"
          ],
          "name": "stdout"
        }
      ]
    },
    {
      "cell_type": "markdown",
      "metadata": {
        "id": "aHGv5eUGztOs"
      },
      "source": [
        "Dado que ambos condicionales imprimen a. Podríamos modificar el código para tener un sólo condicional usando los operadores lógicos?"
      ]
    },
    {
      "cell_type": "code",
      "metadata": {
        "colab": {
          "base_uri": "https://localhost:8080/"
        },
        "id": "o80IpgyzztOt",
        "outputId": "4f8b3ce9-e499-4f05-d04d-5c72127f16dc"
      },
      "source": [
        "a = int(input('Ingrese el valor de a: '))\n",
        "b = int(input('Ingrese el valor de b: '))\n",
        "\n",
        "if a>2 or b<4:\n",
        "  print(a)\n"
      ],
      "execution_count": 9,
      "outputs": [
        {
          "output_type": "stream",
          "text": [
            "Ingrese el valor de a: 6\n",
            "Ingrese el valor de b: 2\n",
            "6\n"
          ],
          "name": "stdout"
        }
      ]
    },
    {
      "cell_type": "markdown",
      "metadata": {
        "id": "-MMhAb37ztOu"
      },
      "source": [
        "### Actividad 2\n",
        "\n",
        "Los operadores lógicos pueden evaluar números y otros tipos de datos.\n",
        "\n",
        "Para ingresar al programa de medicina, el estudiante debe tener diploma de bachiller y ser mayor de 17 años. Creemos el código para validar esta información dadas las variables tieneDiploma (Y/N) y edad (entero)."
      ]
    },
    {
      "cell_type": "code",
      "metadata": {
        "colab": {
          "base_uri": "https://localhost:8080/"
        },
        "id": "SBcdCwgnztOv",
        "outputId": "5d104153-ca27-44e4-cfee-28f64d736150"
      },
      "source": [
        "edad = int(input('Por favor ingrese su edad: '))\n",
        "tieneDiploma = input('¿Cuenta con diploma de bachiller? (Y/N): ')\n",
        "\n",
        "if edad > 17 and tieneDiploma == 'Y':\n",
        "  print('El estudiante es apto para ingresar al programa de medicina')\n",
        "else:\n",
        "  print('El estudiante no es apto para ingresar al programa de medicina')\n"
      ],
      "execution_count": 13,
      "outputs": [
        {
          "output_type": "stream",
          "text": [
            "Por favor ingrese su edad: 15\n",
            "¿Cuenta con diploma de bachiller? (Y/N): Y\n",
            "El estudiante no es apto para ingresar al programa de medicina\n"
          ],
          "name": "stdout"
        }
      ]
    },
    {
      "cell_type": "markdown",
      "metadata": {
        "id": "GXkRN2sTztOw"
      },
      "source": [
        "### Actividad 3\n",
        "\n",
        "Escribe el código para leer un número entero e imprime SI si el último dígito es 4."
      ]
    },
    {
      "cell_type": "code",
      "metadata": {
        "colab": {
          "base_uri": "https://localhost:8080/"
        },
        "id": "J_x3a5RzztOx",
        "outputId": "bcc596a5-7776-4461-dbb7-220eb6850ab1"
      },
      "source": [
        "numero = int(input('Ingrese un número entero: '))\n",
        "ultimoDigito = numero%10\n",
        "\n",
        "if ultimoDigito == 4:\n",
        "  print('SI')"
      ],
      "execution_count": 20,
      "outputs": [
        {
          "output_type": "stream",
          "text": [
            "Ingrese un número entero: 3564\n",
            "SI\n"
          ],
          "name": "stdout"
        }
      ]
    }
  ]
}
